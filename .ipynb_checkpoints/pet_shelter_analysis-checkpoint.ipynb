{
 "cells": [
  {
   "cell_type": "code",
   "execution_count": 1,
   "id": "a967412d-5f62-4e7c-9007-d2706412e9da",
   "metadata": {},
   "outputs": [],
   "source": [
    "import pandas as pd\n",
    "intakes = pd.read_csv('aac_intakes.csv')\n",
    "outcomes = pd.read_csv('aac_outcomes.csv')\n",
    "intakes_and_outcomes = pd.read_csv('aac_intakes_outcomes.csv')"
   ]
  },
  {
   "cell_type": "code",
   "execution_count": 2,
   "id": "22fe5628-747f-442a-911a-3632c5b1a1ad",
   "metadata": {},
   "outputs": [],
   "source": [
    "intakes['datetime'] = pd.to_datetime(intakes['datetime'])\n",
    "intakes['datetime2'] = pd.to_datetime(intakes['datetime2'])"
   ]
  },
  {
   "cell_type": "markdown",
   "id": "3cc47562-73d2-462b-8c7e-124a196db001",
   "metadata": {},
   "source": [
    "------------------"
   ]
  },
  {
   "cell_type": "markdown",
   "id": "8050a95d-1f9b-4071-9d00-61985a3cfe19",
   "metadata": {},
   "source": [
    "## Is there an area where more pets are found?"
   ]
  },
  {
   "cell_type": "markdown",
   "id": "b44be5d1-5053-4ef6-8100-e5ea623422ae",
   "metadata": {},
   "source": [
    "When analyzing the `intakes` dataset to determine if there is a specific area where more pets are found, we found that certain locations stand out with higher numbers of found pets. By examining the 'found_location' field and counting the occurrences of each location, we identified the top 5 areas. Here are the areas where pets are found most frequently:\n",
    "\n",
    "- **Austin (TX)**: 14,443\n",
    "- **Outside Jurisdiction**: 948\n",
    "- **Travis (TX)**: 921\n",
    "- **7201 Levander Loop in Austin (TX)**: 517\n",
    "- **Del Valle (TX)**: 411\n",
    "\n",
    "This data indicates that Austin (TX) is the area with the highest number of pets found, significantly more than any other location in the dataset.\n"
   ]
  },
  {
   "cell_type": "code",
   "execution_count": 3,
   "id": "ab3d54cd-bcf5-4701-a496-1239b3a1f1a6",
   "metadata": {},
   "outputs": [],
   "source": [
    "most_popular_locations = intakes['found_location'].value_counts().nlargest(5)"
   ]
  },
  {
   "cell_type": "markdown",
   "id": "38966b62-dbb8-4bd2-a63a-34e72739821f",
   "metadata": {},
   "source": [
    "---------"
   ]
  },
  {
   "cell_type": "markdown",
   "id": "3b4c6d63-d8da-4308-8442-572c7ef8f7f1",
   "metadata": {},
   "source": [
    "## What is the average number of pets found in a month in the year 2015? Are there months where there is a higher number of animals found?"
   ]
  },
  {
   "cell_type": "markdown",
   "id": "2591202d-f3c4-4766-8984-e74eb9cbe7bf",
   "metadata": {},
   "source": [
    "### Analysis of Pets Found Per Month in 2015\r\n",
    "\r\n",
    "In 2015, the Austin Animal Shelter experienced varying numbers of pet intakes each month. An analysis of the `intakes` dataset for the year 2015 revealed the following insights:\r\n",
    "\r\n",
    "- **Average Monthly Intakes**: The average number of pets found per month in 2015 was **1,559**. This figure was calculated by dividing the total number of intakes in 2015 by 12.\r\n",
    "  \r\n",
    "- **Outlier Months**: Notably, certain months saw a significantly higher number of intakes. Specifically, May and June had unusually high intake numbers. In May, the shelter found **2,094** pets, and in June, the number reached a year-high of **2,189**.\r\n",
    "\r\n",
    "This analysis suggests that while there was a general average trend, certain months, particularly in late spring and early summer, experienced a notable increase in the number of pets found.\r\n"
   ]
  },
  {
   "cell_type": "code",
   "execution_count": 4,
   "id": "929ff034-3894-45d2-8ce8-eb04db2c3168",
   "metadata": {},
   "outputs": [],
   "source": [
    "intakes_2015 = intakes[intakes['datetime'].dt.year == 2015]\n",
    "monthly_average_2015 = round(len(intakes_2015)/12,2)\n",
    "monthly_totals_2015 = intakes_2015.groupby(intakes_2015['datetime'].dt.month).size()"
   ]
  },
  {
   "cell_type": "markdown",
   "id": "d73880ce-9142-439e-8c04-91a86dfe7394",
   "metadata": {},
   "source": [
    "---------"
   ]
  },
  {
   "cell_type": "markdown",
   "id": "b720d343-aef9-4040-bc50-3eddfa5d309c",
   "metadata": {},
   "source": [
    "## What is the ratio of incoming pets vs. adopted pets?"
   ]
  },
  {
   "cell_type": "markdown",
   "id": "e72446ce-4d33-4d2f-94ef-6d26498e917a",
   "metadata": {},
   "source": [
    "### Analysis of Incoming Pets vs. Adopted Pets Ratio\r\n",
    "\r\n",
    "In examining the `intakes_and_outcomes` dataset, we calculated the ratio of incoming pets to adopted pets to understand the balance between these two aspects of shelter operations. The findings are as follows:\r\n",
    "\r\n",
    "- **Ratio of Incoming Pets to Adopted Pets**: For every adoption, there are approximately **2.37 incoming pets**. This ratio was determined by dividing the total number of intakes by the total number of adoptions in the shelter.\r\n",
    "\r\n",
    "This ratio indicates the relative volume of new intakes compared to the number of adoptions, providing insight into the challenges and dynamics of managing a shelter.\r\n"
   ]
  },
  {
   "cell_type": "code",
   "execution_count": 5,
   "id": "afeabf4a-f423-486e-a89f-259cc85197e5",
   "metadata": {},
   "outputs": [],
   "source": [
    "total_intakes = len(intakes_and_outcomes)\n",
    "total_adoptions = len(intakes_and_outcomes[intakes_and_outcomes['outcome_type'] == 'Adoption'])\n",
    "ratio_adoption_vs_intakes = round(total_intakes/total_adoptions, 2)"
   ]
  },
  {
   "cell_type": "markdown",
   "id": "80a30143-5b42-405f-9ac1-6dd60cd8c3dc",
   "metadata": {},
   "source": [
    "--------"
   ]
  },
  {
   "cell_type": "markdown",
   "id": "c45131fe-bc1b-4153-b699-f65b546f99b2",
   "metadata": {},
   "source": [
    "## What is the distribution of the types of animals in the shelter?"
   ]
  },
  {
   "cell_type": "markdown",
   "id": "06db0d80-1129-460b-b350-004e66410f41",
   "metadata": {},
   "source": [
    "### Distribution of Animal Types in the Shelter\r\n",
    "\r\n",
    "The `intakes` dataset provides a clear view of the variety of animal types in the shelter and their distribution. The data, both in terms of absolute numbers and percentages, is as follows:\r\n",
    "\r\n",
    "- **Bird**: 342 (0.43%)\r\n",
    "- **Cat**: 29,659 (36.99%)\r\n",
    "- **Dog**: 45,743 (57.05%)\r\n",
    "- **Livestock**: 9 (0.01%)\r\n",
    "- **Other**: 4,434 (5.53%)\r\n",
    "\r\n",
    "These figures were derived by grouping the intakes by 'animal_type' and calculating the total for each type. The percentages represent each type's proportion of the total number of animals in the shelter. The slight overage to 100.01% in the total percentage is a result of rounding each individual percentage to two decimal places.\r\n"
   ]
  },
  {
   "cell_type": "code",
   "execution_count": 6,
   "id": "21f473f0-5a25-4e34-abbd-d56a8d3f40b9",
   "metadata": {},
   "outputs": [],
   "source": [
    "animal_types = intakes.groupby(intakes['animal_type']).size()\n",
    "total_animals = animal_types.sum()\n",
    "animal_types_percent = round((animal_types / total_animals) * 100,2)"
   ]
  },
  {
   "cell_type": "markdown",
   "id": "d70f04d0-ffb2-48ec-bd2d-cf9a75cf89c9",
   "metadata": {},
   "source": [
    "--------"
   ]
  },
  {
   "cell_type": "markdown",
   "id": "ee4745c7-cf88-4e6e-bf9d-8a8922d0fe07",
   "metadata": {},
   "source": [
    "## What are the adoption rates for specific breeds?"
   ]
  },
  {
   "cell_type": "markdown",
   "id": "520e5208-5242-4581-bbe7-93cedff43fae",
   "metadata": {},
   "source": [
    "By filtering and analyzing the `intakes_and_outcomes` data, here are the adoption rates for specific breeds, rounded to two decimal points:\r\n",
    "\r\n",
    "- **Australian Cattle Dog Mix**: 55.23%\r\n",
    "- **Chihuahua Shorthair Mix**: 46.99%\r\n",
    "- **German Shepherd Mix**: 47.28%\r\n",
    "- **Labrador Retriever Mix**: 49.45%\r\n",
    "- **Pit Bull Mix**: 37.15%\r\n",
    "\r\n",
    "This analysis involved calculating the proportion of adoptions out of the total outcomes for each of these breeds.\r\n",
    " breeds.1543"
   ]
  },
  {
   "cell_type": "code",
   "execution_count": 7,
   "id": "65314d09-9913-4b4c-a4fd-6748cb05ad17",
   "metadata": {},
   "outputs": [],
   "source": [
    "dogs = intakes_and_outcomes[intakes_and_outcomes['animal_type'] == 'Dog']\n",
    "top_5_breeds = dogs['breed'].value_counts().head(5).index\n",
    "dogs_filtered = dogs[dogs['breed'].isin(top_5_breeds)]\n",
    "outcomes_by_breed = dogs_filtered.groupby('breed')['outcome_type'].value_counts().unstack(fill_value=0)\n",
    "adoption_rates = (outcomes_by_breed['Adoption'])/(outcomes_by_breed.sum(axis=1))"
   ]
  },
  {
   "cell_type": "markdown",
   "id": "f0703c80-0f3a-48a3-aadf-fec4cfdc6128",
   "metadata": {},
   "source": [
    "----------"
   ]
  },
  {
   "cell_type": "markdown",
   "id": "3e6dbfa5-f3d4-4b67-9c18-2cfb36491a88",
   "metadata": {},
   "source": [
    "## What are the adoption rates for different colorings?"
   ]
  },
  {
   "cell_type": "markdown",
   "id": "7cd42a01-6ace-4fa1-a009-f326151db50c",
   "metadata": {},
   "source": [
    "By analyzing the `intakes_and_outcomes` data to focus on adoption rates by color, we calculated the proportions for the top five colorings. Here are the adoption rates for each, rounded to two decimal points:\r\n",
    "\r\n",
    "- **Black**: 40.35%\r\n",
    "- **Black/White**: 45.20%\r\n",
    "- **Brown**: 22.09%\r\n",
    "- **Brown Tabby**: 41.85%\r\n",
    "- **White**: 37.57%\r\n",
    "\r\n",
    "This calculation involved determining the ratio of adoptions to total outcomes for each of these colorings.\r\n"
   ]
  },
  {
   "cell_type": "code",
   "execution_count": 8,
   "id": "266484bf-c921-4d66-bca2-851053f40f26",
   "metadata": {},
   "outputs": [],
   "source": [
    "top_5_colorings = intakes_and_outcomes['color'].value_counts().head(5).index\n",
    "filtered_by_colorings = intakes_and_outcomes[intakes_and_outcomes['color'].isin(top_5_colorings)]\n",
    "outcomes_by_coloring = filtered_by_colorings.groupby('color')['outcome_type'].value_counts().unstack(fill_value=0)\n",
    "adoption_rates_by_color = (outcomes_by_coloring['Adoption'])/(outcomes_by_coloring.sum(axis=1))"
   ]
  },
  {
   "cell_type": "markdown",
   "id": "ad11a019-2430-4ebb-948c-5b298d6b8f3d",
   "metadata": {},
   "source": [
    "---------"
   ]
  },
  {
   "cell_type": "markdown",
   "id": "73adf2b8-eb27-4e09-8d76-ba6263abe02b",
   "metadata": {},
   "source": [
    "## About how many animals are spayed/neutered each month?"
   ]
  },
  {
   "cell_type": "markdown",
   "id": "3c86a2db-6486-4fb4-8ddf-632412178b17",
   "metadata": {},
   "source": [
    "Based on the analysis of the `intakes` dataset, the average number of animals spayed/neutered each month is approximately **897**.\n",
    "\n",
    "This figure was calculated by identifying all intact males and females in the dataset and assuming that they would eventually be spayed or neutered. The total number of these intact animals was then divided by the total number of months covered by the dataset to determine the monthly average.\r\n"
   ]
  },
  {
   "cell_type": "code",
   "execution_count": 9,
   "id": "8aac288e-74a6-4a5e-b223-06ba87628ba1",
   "metadata": {},
   "outputs": [],
   "source": [
    "total_months = round((intakes['datetime'].max() - intakes['datetime'].min())/ pd.Timedelta(days=30))\n",
    "intact_animals = len(intakes[intakes['sex_upon_intake'].str.contains('intact', case=False, na=False)])\n",
    "average_monthly_procedures = round(intact_animals/total_months)"
   ]
  },
  {
   "cell_type": "markdown",
   "id": "0c4fda9a-19e9-4237-b321-fadf357c90d1",
   "metadata": {},
   "source": [
    "-----"
   ]
  },
  {
   "cell_type": "markdown",
   "id": "74bfcbd5-4008-4888-9fc2-84fee2d42277",
   "metadata": {},
   "source": [
    "## How many animals in the shelter are repeats? Which animal was returned to the shelter the most?"
   ]
  },
  {
   "cell_type": "markdown",
   "id": "7d10451b-b36e-4ad4-b415-0c74f2b380e2",
   "metadata": {},
   "source": [
    "### Repeat Animals in the Shelter and the Most Returned Animal\r\n",
    "\r\n",
    "#### Repeat Visitors\r\n",
    "After conducting an analysis of the `intakes` dataset, it was determined that **6,154 animals** have been admitted to the shelter more than once, representing a significant number of repeat visitors. This count reflects the unique animals that have had multiple instances of intake.\r\n",
    "\r\n",
    "#### Most Returned Animal\r\n",
    "Further analysis revealed the animal that has returned to the shelter the most:\r\n",
    "\r\n",
    "- **Name**: Lil bit\r\n",
    "- **Animal ID**: A721033\r\n",
    "- **Animal Type**: Dog\r\n",
    "- **Breed**: Rat Terrier Mix\r\n",
    "- **Color**: Tricolor/Brown Brindle\r\n",
    "\r\n",
    "This specific animal has the highest number of intake records, making it the most returned animal to the shelter in the dataset.\r\n"
   ]
  },
  {
   "cell_type": "code",
   "execution_count": 10,
   "id": "9abc8689-5e62-4b76-aeb8-6129b155dc72",
   "metadata": {},
   "outputs": [],
   "source": [
    "all_duplicates = intakes[intakes.duplicated(subset=['animal_id'], keep=False)]\n",
    "unique_repeat_animals = all_duplicates['animal_id'].nunique()\n",
    "most_common_animal = intakes['animal_id'].value_counts().head(1).idxmax()\n",
    "most_common_animal = intakes[intakes['animal_id'] == most_common_animal]"
   ]
  },
  {
   "cell_type": "markdown",
   "id": "fbf37775-e8c1-4114-9e31-b7af80ed23cd",
   "metadata": {},
   "source": [
    "------"
   ]
  },
  {
   "cell_type": "markdown",
   "id": "d36b8b32-e5a7-4107-897a-b26ea02ad0f5",
   "metadata": {},
   "source": [
    "## What are the adoption rates for the following age groups?\n",
    "* baby: 4 months and less\n",
    "* young: 5 months - 2 years\n",
    "* adult: 3 years - 10 years\n",
    "* senior: 11+"
   ]
  },
  {
   "cell_type": "markdown",
   "id": "ec5645fe-3ed6-4f3b-8bfe-0940dd9db97e",
   "metadata": {},
   "source": [
    "### Adoption Rates by Age Group in the Shelter\r\n",
    "\r\n",
    "#### Methodology\r\n",
    "To determine the adoption rates by age group, we analyzed the `intakes_and_outcomes` dataset, focusing specifically on the records where the 'outcome_type' was 'Adoption'. We categorized each adoption into one of four age groups based on the 'age_upon_outcome_(days)' field: baby (4 months and less), young (5 months to 2 years), adult (3 years to 10 years), and senior (11+ years). We then calculated the count and percentage of adoptions for each age group relative to the total number of adoptions.\r\n",
    "\r\n",
    "#### Results\r\n",
    "The counts and corresponding percentages of adoptions for each age group are as follows:\r\n",
    "\r\n",
    "- **Baby (4 months and less)**: \r\n",
    "  - Count: 12,598\r\n",
    "  - Percentage of Total Adoptions: 37.5%\r\n",
    "\r\n",
    "- **Young (5 months - 2 years)**: \r\n",
    "  - Count: 14,510\r\n",
    "  - Percentage of Total Adoptions: 43.19%\r\n",
    "\r\n",
    "- **Adult (3 years - 10 years)**: \r\n",
    "  - Count: 6,034\r\n",
    "  - Percentage of Total Adoptions: 17.96%\r\n",
    "\r\n",
    "- **Senior (11+ years)**: \r\n",
    "  - Count: 452\r\n",
    "  - Percentage of Total Adoptions: 1.35%\r\n",
    "\r\n",
    "#### Insights\r\n",
    "These figures highlight the relative adoption frequencies of different age groups, showing a higher adoption rate for younger animals compared to adults and seniors.\r\n"
   ]
  },
  {
   "cell_type": "code",
   "execution_count": 11,
   "id": "5025c4d8-a798-4c75-9570-d29d43ca6ca4",
   "metadata": {},
   "outputs": [],
   "source": [
    "adoptions = intakes_and_outcomes[intakes_and_outcomes['outcome_type'] == 'Adoption']\n",
    "baby_adoptions = adoptions[adoptions['age_upon_outcome_(days)'] <= 120]\n",
    "young_adoptions = adoptions[(adoptions['age_upon_outcome_(days)'] > 120) & (adoptions['age_upon_outcome_(days)'] <= 730)]\n",
    "adult_adoptions = adoptions[(adoptions['age_upon_outcome_(days)'] > 730) & (adoptions['age_upon_outcome_(days)'] <= 3650)]\n",
    "senior_adoptions = adoptions[adoptions['age_upon_outcome_(days)'] > 3650]\n",
    "baby_count = len(baby_adoptions)\n",
    "young_count = len(young_adoptions)\n",
    "adult_count = len(adult_adoptions)\n",
    "senior_count = len(senior_adoptions)\n",
    "total_adoptions = baby_count + young_count + adult_count + senior_count\n",
    "baby_percent = round((baby_count / total_adoptions) * 100,2)\n",
    "young_percent = round((young_count / total_adoptions) * 100,2)\n",
    "adult_percent = round((adult_count / total_adoptions) * 100,2)\n",
    "senior_percent = round((senior_count / total_adoptions) * 100,2)"
   ]
  },
  {
   "cell_type": "markdown",
   "id": "d99355c9-ef7f-4d3d-a2ec-8bca7df9d5b6",
   "metadata": {},
   "source": [
    "--------------"
   ]
  },
  {
   "cell_type": "markdown",
   "id": "a23a86b2-8c5c-42d7-ba51-e71de2ec4d34",
   "metadata": {},
   "source": [
    "## `If spay/neuter for a dog costs $100 and a spay/neuter for a cat costs $50, how much did the shelter spend in 2015`\n"
   ]
  },
  {
   "cell_type": "markdown",
   "id": "9200e6dc-0330-4484-8094-c8f676fc8072",
   "metadata": {},
   "source": [
    "### Spay/Neuter Expenses at the Austin Animal Shelter in 2015\n",
    "\n",
    "In 2015, the Austin Animal Shelter incurred significant expenses for spay/neuter procedures, with the total amounting to **$563,900**. The breakdown of the expenses by animal type is as follows:\n",
    "\n",
    "- **Dogs**: `There were 4,277 spay/neuter procedures for dogs, totaling **$427,700**`.\n",
    "- **Cats**: `The shelter performed 2,724 procedures for cats, with a total cost of **$136,200**.`\n",
    "\n",
    "`This expenditure was calculated based on the cost of $100 for each dog procedure and $50 for each cat procedure. The analysis was conducted using the intakes_and_outcomes dataset, focusing on animals that were not spayed or neutered upon intake but were upon outcome in the year 2015.`\n"
   ]
  },
  {
   "cell_type": "code",
   "execution_count": 12,
   "id": "31da1a63-784c-4a9e-8260-1395c2d7c039",
   "metadata": {},
   "outputs": [],
   "source": [
    "total_procedures_2015 = intakes_and_outcomes[\n",
    "    ((intakes_and_outcomes['animal_type'] == 'Dog') | (intakes_and_outcomes['animal_type'] == 'Cat')) &\n",
    "    (intakes_and_outcomes['intake_year'] == 2015) &\n",
    "    (~intakes_and_outcomes['sex_upon_intake'].str.contains('spayed|neutered', case=False, na=False)) &\n",
    "    (intakes_and_outcomes['sex_upon_outcome'].str.contains('spayed|neutered', case=False, na=False))\n",
    "]\n",
    "\n",
    "total_cat_procedures = len(total_procedures_2015[total_procedures_2015['animal_type'] == 'Cat'])\n",
    "total_cat_expenses = total_cat_procedures * 50\n",
    "total_dog_procedures = len(total_procedures_2015[total_procedures_2015['animal_type'] == 'Dog'])\n",
    "total_dog_expenses =  total_dog_procedures * 100"
   ]
  },
  {
   "cell_type": "markdown",
   "id": "f0021a69-7d65-402b-a006-6d8ed50b76e1",
   "metadata": {},
   "source": [
    "------------"
   ]
  }
 ],
 "metadata": {
  "kernelspec": {
   "display_name": "Python 3 (ipykernel)",
   "language": "python",
   "name": "python3"
  },
  "language_info": {
   "codemirror_mode": {
    "name": "ipython",
    "version": 3
   },
   "file_extension": ".py",
   "mimetype": "text/x-python",
   "name": "python",
   "nbconvert_exporter": "python",
   "pygments_lexer": "ipython3",
   "version": "3.11.5"
  }
 },
 "nbformat": 4,
 "nbformat_minor": 5
}
